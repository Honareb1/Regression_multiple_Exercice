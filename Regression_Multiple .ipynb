{
 "cells": [
  {
   "cell_type": "code",
   "execution_count": 2,
   "id": "68125bf6",
   "metadata": {},
   "outputs": [
    {
     "name": "stdout",
     "output_type": "stream",
     "text": [
      "                            OLS Regression Results                            \n",
      "==============================================================================\n",
      "Dep. Variable:                      y   R-squared:                       0.241\n",
      "Model:                            OLS   Adj. R-squared:                  0.121\n",
      "Method:                 Least Squares   F-statistic:                     2.007\n",
      "Date:                Sat, 12 Aug 2023   Prob (F-statistic):              0.147\n",
      "Time:                        16:34:15   Log-Likelihood:                -40.810\n",
      "No. Observations:                  23   AIC:                             89.62\n",
      "Df Residuals:                      19   BIC:                             94.16\n",
      "Df Model:                           3                                         \n",
      "Covariance Type:            nonrobust                                         \n",
      "==============================================================================\n",
      "                 coef    std err          t      P>|t|      [0.025      0.975]\n",
      "------------------------------------------------------------------------------\n",
      "x1            -0.0287      0.135     -0.213      0.834      -0.311       0.254\n",
      "x2             0.2684      0.160      1.678      0.110      -0.066       0.603\n",
      "x3             0.1339      0.160      0.839      0.412      -0.200       0.468\n",
      "const          1.5123      0.986      1.534      0.142      -0.551       3.576\n",
      "==============================================================================\n",
      "Omnibus:                        9.472   Durbin-Watson:                   2.447\n",
      "Prob(Omnibus):                  0.009   Jarque-Bera (JB):                7.246\n",
      "Skew:                          -1.153   Prob(JB):                       0.0267\n",
      "Kurtosis:                       4.497   Cond. No.                         29.7\n",
      "==============================================================================\n",
      "\n",
      "Notes:\n",
      "[1] Standard Errors assume that the covariance matrix of the errors is correctly specified.\n"
     ]
    }
   ],
   "source": [
    "import statsmodels.api as sm\n",
    "import numpy as np\n",
    "\n",
    "y = [1,2,3,4,3,4,5,3,5,5,4,5,4,5,4,5,6,0,6,3,1,3,1] \n",
    "X = [[0,2,4,1,5,4,5,9,9,9,3,7,8,8,6,6,5,5,5,6,6,5,5],\n",
    "     [4,1,2,3,4,5,6,7,5,8,7,8,7,8,7,8,6,8,9,2,1,5,6],\n",
    "     [4,1,2,5,6,7,8,9,7,8,7,8,7,4,3,1,2,3,4,1,3,9,7]]\n",
    "\n",
    "def reg_m(y, x):\n",
    "    ones = np.ones(len(x[0]))\n",
    "    X = sm.add_constant(np.column_stack((x[0], ones)))\n",
    "    for ele in x[1:]:\n",
    "        X = sm.add_constant(np.column_stack((ele, X)))\n",
    "    results = sm.OLS(y, X).fit()\n",
    "    return results\n",
    "\n",
    "print(reg_m(y, X).summary())\n"
   ]
  },
  {
   "cell_type": "code",
   "execution_count": null,
   "id": "f83c0701",
   "metadata": {},
   "outputs": [],
   "source": []
  }
 ],
 "metadata": {
  "kernelspec": {
   "display_name": "Python 3 (ipykernel)",
   "language": "python",
   "name": "python3"
  },
  "language_info": {
   "codemirror_mode": {
    "name": "ipython",
    "version": 3
   },
   "file_extension": ".py",
   "mimetype": "text/x-python",
   "name": "python",
   "nbconvert_exporter": "python",
   "pygments_lexer": "ipython3",
   "version": "3.11.3"
  }
 },
 "nbformat": 4,
 "nbformat_minor": 5
}
